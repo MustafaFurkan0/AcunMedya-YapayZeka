{
 "cells": [
  {
   "cell_type": "code",
   "execution_count": 33,
   "id": "97664009-7526-474e-84fd-7c723a33de3f",
   "metadata": {},
   "outputs": [],
   "source": [
    "import numpy as np"
   ]
  },
  {
   "cell_type": "markdown",
   "id": "91cf579c-bb4f-48df-bfd0-302e31f88ce9",
   "metadata": {},
   "source": [
    "# Numpy (NumericPython)\n",
    "Pythonda matematiksel işlemleri hızlı bir biçimde yapabilmemizi sağlayan kütüphane"
   ]
  },
  {
   "cell_type": "code",
   "execution_count": 34,
   "id": "0975a1c4-7050-4b08-80e7-821f2586bc15",
   "metadata": {},
   "outputs": [],
   "source": [
    "p_list = list(range(1_000_000)) # Klasik python listesi\n",
    "np_array = np.array(p_list) # 1m elemanı olan np array"
   ]
  },
  {
   "cell_type": "code",
   "execution_count": 35,
   "id": "4e21d642-42ec-4bce-a3c9-1edaecfdb045",
   "metadata": {},
   "outputs": [
    {
     "name": "stdout",
     "output_type": "stream",
     "text": [
      "57.9 ms ± 2.12 ms per loop (mean ± std. dev. of 7 runs, 10 loops each)\n"
     ]
    }
   ],
   "source": [
    "%%timeit\n",
    "[x+1 for x in p_list]"
   ]
  },
  {
   "cell_type": "code",
   "execution_count": 36,
   "id": "700a37e2-3f92-4a34-b039-b9c6c5e4d17a",
   "metadata": {},
   "outputs": [
    {
     "name": "stdout",
     "output_type": "stream",
     "text": [
      "1.93 ms ± 20.8 µs per loop (mean ± std. dev. of 7 runs, 1,000 loops each)\n"
     ]
    }
   ],
   "source": [
    "%%timeit\n",
    "np_array + 1"
   ]
  },
  {
   "cell_type": "code",
   "execution_count": 37,
   "id": "91bab540-6d34-4e4b-a76c-e7a764ed9f5b",
   "metadata": {},
   "outputs": [],
   "source": [
    "arr1 = np.array(1)"
   ]
  },
  {
   "cell_type": "code",
   "execution_count": 38,
   "id": "70544539-cdb9-4c2e-acfb-7d8bf0816872",
   "metadata": {},
   "outputs": [
    {
     "data": {
      "text/plain": [
       "numpy.ndarray"
      ]
     },
     "execution_count": 38,
     "metadata": {},
     "output_type": "execute_result"
    }
   ],
   "source": [
    "type(arr1)"
   ]
  },
  {
   "cell_type": "code",
   "execution_count": 39,
   "id": "e0dd597a-205c-41d9-a5e3-942370141367",
   "metadata": {},
   "outputs": [
    {
     "data": {
      "text/plain": [
       "0"
      ]
     },
     "execution_count": 39,
     "metadata": {},
     "output_type": "execute_result"
    }
   ],
   "source": [
    "arr1.ndim # ndim -> ndimension(boyutu) -> 0"
   ]
  },
  {
   "cell_type": "code",
   "execution_count": 40,
   "id": "f41f3c95-d5a9-4638-b4e5-7dded71d7000",
   "metadata": {},
   "outputs": [
    {
     "data": {
      "text/plain": [
       "(1, (3,))"
      ]
     },
     "execution_count": 40,
     "metadata": {},
     "output_type": "execute_result"
    }
   ],
   "source": [
    "arr2 = np.array([10,20,30])\n",
    "arr2.ndim , arr2.shape # 1D Array (Vector)"
   ]
  },
  {
   "cell_type": "code",
   "execution_count": 41,
   "id": "cc00201d-6348-49f1-8e52-8b9a8de9bb72",
   "metadata": {},
   "outputs": [
    {
     "data": {
      "text/plain": [
       "(1, (3,))"
      ]
     },
     "execution_count": 41,
     "metadata": {},
     "output_type": "execute_result"
    }
   ],
   "source": [
    "arr3 = np.array([40,50,60])\n",
    "arr3.ndim, arr3.shape"
   ]
  },
  {
   "cell_type": "code",
   "execution_count": 42,
   "id": "58da8755-b4e3-4047-9bba-30322367314b",
   "metadata": {},
   "outputs": [
    {
     "data": {
      "text/plain": [
       "array([50, 70, 90])"
      ]
     },
     "execution_count": 42,
     "metadata": {},
     "output_type": "execute_result"
    }
   ],
   "source": [
    "result = arr2 + arr3\n",
    "result"
   ]
  },
  {
   "cell_type": "code",
   "execution_count": 43,
   "id": "9b4f392c-d22b-4bef-a913-555bb55e88b2",
   "metadata": {},
   "outputs": [
    {
     "data": {
      "text/plain": [
       "array([30, 30, 30])"
      ]
     },
     "execution_count": 43,
     "metadata": {},
     "output_type": "execute_result"
    }
   ],
   "source": [
    "result2 = arr3 - arr2\n",
    "result2"
   ]
  },
  {
   "cell_type": "code",
   "execution_count": 44,
   "id": "8beb248b-78e4-4618-b5ce-66a89af55dcd",
   "metadata": {},
   "outputs": [],
   "source": [
    "# Shape uyuşmazlığı olduğu iiçin matematiksel işlemler yapılamaz\n",
    "arr4 = np.array([100,200])\n",
    "# arr3 + arr4 "
   ]
  },
  {
   "cell_type": "code",
   "execution_count": 49,
   "id": "22bc885f-3d40-43e5-adec-7bd6bbba8713",
   "metadata": {},
   "outputs": [
    {
     "data": {
      "text/plain": [
       "(2, (2, 3))"
      ]
     },
     "execution_count": 49,
     "metadata": {},
     "output_type": "execute_result"
    }
   ],
   "source": [
    "arr5 = np.array(\n",
    "    [\n",
    "        [10,20,30],\n",
    "        [40,50,60]\n",
    "    ]\n",
    ")\n",
    "# 2 boyutlu, 2,3 şekilli bir matris\n",
    "arr5.ndim, arr5.shape"
   ]
  },
  {
   "cell_type": "code",
   "execution_count": 50,
   "id": "c0ba2183-935a-4b52-a30c-c57428fa2211",
   "metadata": {},
   "outputs": [
    {
     "data": {
      "text/plain": [
       "(2, (2, 3))"
      ]
     },
     "execution_count": 50,
     "metadata": {},
     "output_type": "execute_result"
    }
   ],
   "source": [
    "arr6 = np.array(\n",
    "    [\n",
    "        [70,80,90],\n",
    "        [100,110,120]\n",
    "    ]\n",
    ")\n",
    "arr6.ndim, arr6.shape"
   ]
  },
  {
   "cell_type": "code",
   "execution_count": 51,
   "id": "0363147d-0e87-4461-9af5-f26472c23ce0",
   "metadata": {},
   "outputs": [
    {
     "data": {
      "text/plain": [
       "array([[ 80, 100, 120],\n",
       "       [140, 160, 180]])"
      ]
     },
     "execution_count": 51,
     "metadata": {},
     "output_type": "execute_result"
    }
   ],
   "source": [
    "result = arr5 + arr6\n",
    "result"
   ]
  },
  {
   "cell_type": "markdown",
   "id": "0ad86d85-2f55-4e3c-ab95-26d846d05a09",
   "metadata": {},
   "source": [
    "# Dot Product (İç Çarpım)\n",
    "Dot product -> ilk matrisin sütun sayısı, ikinci matrisin satır sayısına eşit olmalı"
   ]
  },
  {
   "cell_type": "code",
   "execution_count": 52,
   "id": "4433f249-d7cb-4dd4-abd7-a82281e38970",
   "metadata": {},
   "outputs": [
    {
     "ename": "ValueError",
     "evalue": "shapes (2,3) and (2,3) not aligned: 3 (dim 1) != 2 (dim 0)",
     "output_type": "error",
     "traceback": [
      "\u001b[1;31m---------------------------------------------------------------------------\u001b[0m",
      "\u001b[1;31mValueError\u001b[0m                                Traceback (most recent call last)",
      "Cell \u001b[1;32mIn[52], line 1\u001b[0m\n\u001b[1;32m----> 1\u001b[0m \u001b[43mnp\u001b[49m\u001b[38;5;241;43m.\u001b[39;49m\u001b[43mdot\u001b[49m\u001b[43m(\u001b[49m\u001b[43marr5\u001b[49m\u001b[43m,\u001b[49m\u001b[43marr6\u001b[49m\u001b[43m)\u001b[49m\n",
      "\u001b[1;31mValueError\u001b[0m: shapes (2,3) and (2,3) not aligned: 3 (dim 1) != 2 (dim 0)"
     ]
    }
   ],
   "source": [
    "np.dot(arr5,arr6)"
   ]
  },
  {
   "cell_type": "code",
   "execution_count": 54,
   "id": "d53078ec-ab1a-4348-8671-04a0e400666d",
   "metadata": {},
   "outputs": [
    {
     "data": {
      "text/plain": [
       "((2, 3), (3, 2))"
      ]
     },
     "execution_count": 54,
     "metadata": {},
     "output_type": "execute_result"
    }
   ],
   "source": [
    "arr7 = np.array(\n",
    "    [\n",
    "        [10,20,30],\n",
    "        [40,50,60]\n",
    "    ]\n",
    ")\n",
    "\n",
    "arr8 = np.array([\n",
    "    [10,20],\n",
    "    [30,40],\n",
    "    [50,60]\n",
    "])\n",
    "arr7.shape , arr8.shape"
   ]
  },
  {
   "cell_type": "code",
   "execution_count": 57,
   "id": "7843b5df-12dd-48f2-a931-9f650fc77a2b",
   "metadata": {},
   "outputs": [
    {
     "data": {
      "text/plain": [
       "array([[2200, 2800],\n",
       "       [4900, 6400]])"
      ]
     },
     "execution_count": 57,
     "metadata": {},
     "output_type": "execute_result"
    }
   ],
   "source": [
    "np.dot(arr7, arr8) "
   ]
  },
  {
   "cell_type": "code",
   "execution_count": 59,
   "id": "20f86df0-f1df-48b6-8812-c102f957c31b",
   "metadata": {},
   "outputs": [
    {
     "data": {
      "text/plain": [
       "(3, (2, 3, 4))"
      ]
     },
     "execution_count": 59,
     "metadata": {},
     "output_type": "execute_result"
    }
   ],
   "source": [
    "arr9 = np.array(\n",
    "    [\n",
    "        [ [10,20,30,40], [30,40,50,60], [50,60,70,80] ],\n",
    "        [ [70,80,90,100], [90,100,110,120], [110,120,130,140] ]\n",
    "    ]\n",
    ")\n",
    "# 3D array,\n",
    "arr9.ndim, arr9.shape"
   ]
  },
  {
   "cell_type": "code",
   "execution_count": 60,
   "id": "07b6d317-c8be-4c76-a937-d854741bacff",
   "metadata": {},
   "outputs": [
    {
     "data": {
      "text/plain": [
       "array([[246, 115, 189, ..., 209, 115,  64],\n",
       "       [ 23, 210,  91, ..., 113, 171,  54],\n",
       "       [222,  72, 101, ...,  55,  33, 190],\n",
       "       ...,\n",
       "       [ 58, 213, 226, ..., 196,  27,  36],\n",
       "       [109,  18, 151, ..., 172, 144,  84],\n",
       "       [ 67, 151, 106, ..., 147, 188,  90]], dtype=int32)"
      ]
     },
     "execution_count": 60,
     "metadata": {},
     "output_type": "execute_result"
    }
   ],
   "source": [
    "arr10 = np.random.randint(0,255, (1500,1000))\n",
    "arr10"
   ]
  },
  {
   "cell_type": "code",
   "execution_count": 63,
   "id": "22b5f419-6b03-4a38-b6c5-de44fd28f57f",
   "metadata": {},
   "outputs": [
    {
     "name": "stdout",
     "output_type": "stream",
     "text": [
      "Collecting Pillow\n",
      "  Downloading pillow-11.1.0-cp39-cp39-win_amd64.whl.metadata (9.3 kB)\n",
      "Downloading pillow-11.1.0-cp39-cp39-win_amd64.whl (2.6 MB)\n",
      "   ---------------------------------------- 0.0/2.6 MB ? eta -:--:--\n",
      "   ---------------------------------------- 0.0/2.6 MB ? eta -:--:--\n",
      "   --- ------------------------------------ 0.3/2.6 MB ? eta -:--:--\n",
      "   ------- -------------------------------- 0.5/2.6 MB 1.1 MB/s eta 0:00:02\n",
      "   --------------- ------------------------ 1.0/2.6 MB 1.8 MB/s eta 0:00:01\n",
      "   ----------------------------------- ---- 2.4/2.6 MB 3.4 MB/s eta 0:00:01\n",
      "   ---------------------------------------- 2.6/2.6 MB 3.2 MB/s eta 0:00:00\n",
      "Installing collected packages: Pillow\n",
      "Successfully installed Pillow-11.1.0\n"
     ]
    }
   ],
   "source": [
    "!pip install Pillow"
   ]
  },
  {
   "cell_type": "code",
   "execution_count": 64,
   "id": "d19c89db-f979-4d2f-b219-b260181392f3",
   "metadata": {},
   "outputs": [],
   "source": [
    "from PIL import Image"
   ]
  },
  {
   "cell_type": "code",
   "execution_count": 70,
   "id": "6cc307cc-611b-460f-ab7b-35c6d5fa68a5",
   "metadata": {},
   "outputs": [],
   "source": [
    "image= Image.open(\"Eminem.png\")"
   ]
  },
  {
   "cell_type": "code",
   "execution_count": 73,
   "id": "e41a8e90-516b-4e3a-9d3a-0c343ca1af6a",
   "metadata": {},
   "outputs": [
    {
     "data": {
      "text/plain": [
       "(3, (618, 620, 4))"
      ]
     },
     "execution_count": 73,
     "metadata": {},
     "output_type": "execute_result"
    }
   ],
   "source": [
    "image_arr = np.array(image)\n",
    "image_arr .ndim, image_arr.shape"
   ]
  },
  {
   "cell_type": "code",
   "execution_count": 74,
   "id": "306e6e3d-01bf-44ec-acec-66bd78e3e793",
   "metadata": {},
   "outputs": [
    {
     "data": {
      "text/plain": [
       "array([[[255, 255, 255, 255],\n",
       "        [  0,   0,   0, 255],\n",
       "        [  0,   0,   0, 255],\n",
       "        ...,\n",
       "        [  0,   0,   0, 255],\n",
       "        [  0,   0,   0, 255],\n",
       "        [  0,   0,   0, 255]],\n",
       "\n",
       "       [[255, 255, 255, 255],\n",
       "        [  0,   0,   0, 255],\n",
       "        [  0,   0,   0, 255],\n",
       "        ...,\n",
       "        [  0,   0,   0, 255],\n",
       "        [  0,   0,   0, 255],\n",
       "        [  0,   0,   0, 255]],\n",
       "\n",
       "       [[255, 255, 255, 255],\n",
       "        [  0,   0,   0, 255],\n",
       "        [  0,   0,   0, 255],\n",
       "        ...,\n",
       "        [118, 118, 118, 255],\n",
       "        [ 58,  58,  58, 255],\n",
       "        [  0,   0,   0, 255]],\n",
       "\n",
       "       ...,\n",
       "\n",
       "       [[255, 255, 255, 255],\n",
       "        [  0,   0,   0, 255],\n",
       "        [  0,   0,   0, 255],\n",
       "        ...,\n",
       "        [178, 226, 246, 255],\n",
       "        [108, 120, 125, 255],\n",
       "        [  0,   0,   0, 255]],\n",
       "\n",
       "       [[255, 255, 255, 255],\n",
       "        [  0,   0,   0, 255],\n",
       "        [  0,   0,   0, 255],\n",
       "        ...,\n",
       "        [178, 226, 246, 255],\n",
       "        [108, 120, 125, 255],\n",
       "        [  0,   0,   0, 255]],\n",
       "\n",
       "       [[255, 255, 255, 255],\n",
       "        [  0,   0,   0, 255],\n",
       "        [  0,   0,   0, 255],\n",
       "        ...,\n",
       "        [108, 120, 125, 255],\n",
       "        [ 54,  60,  63, 255],\n",
       "        [  0,   0,   0, 255]]], dtype=uint8)"
      ]
     },
     "execution_count": 74,
     "metadata": {},
     "output_type": "execute_result"
    }
   ],
   "source": [
    "image_arr"
   ]
  },
  {
   "cell_type": "code",
   "execution_count": null,
   "id": "d02363e8-2e28-4aaa-b94e-01cec7149ab9",
   "metadata": {},
   "outputs": [],
   "source": []
  }
 ],
 "metadata": {
  "kernelspec": {
   "display_name": "Python 3 (ipykernel)",
   "language": "python",
   "name": "python3"
  },
  "language_info": {
   "codemirror_mode": {
    "name": "ipython",
    "version": 3
   },
   "file_extension": ".py",
   "mimetype": "text/x-python",
   "name": "python",
   "nbconvert_exporter": "python",
   "pygments_lexer": "ipython3",
   "version": "3.9.21"
  }
 },
 "nbformat": 4,
 "nbformat_minor": 5
}
