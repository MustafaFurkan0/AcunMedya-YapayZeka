{
 "cells": [
  {
   "cell_type": "markdown",
   "id": "1db1c918-d2ac-43d0-b4e9-ae41ad2b66ef",
   "metadata": {},
   "source": [
    "# Decision Tree (Karar Ağacı)"
   ]
  },
  {
   "cell_type": "markdown",
   "id": "e4433590-dbfa-4d69-9d73-2296409d18ca",
   "metadata": {},
   "source": [
    "### Decision Tree, verileri dallara ayırarak sınıflandıran ya da tahminler yapan ağaç tabanlı bir algoritmadır.\n",
    "\n",
    "### Özellikler\n",
    "-> Yorumlanabilirlik\n",
    "\n",
    "-> Overfitting riski\n",
    "\n",
    "-> Karmaşıklık\n",
    "\n",
    "### Avantajlar\n",
    "-> Kolay yorumlanabilir\n",
    "\n",
    "-> Hızlı\n",
    "\n",
    "-> Hem sınıflandırma hem regresyon\n",
    "\n",
    "### Dezavantajlar\n",
    "-> Overfitting riski\n",
    "\n",
    "-> Küçük veri değişikliklerine karşı hassas"
   ]
  },
  {
   "cell_type": "markdown",
   "id": "4d0e8705-df9b-4dc9-a236-fc51052943d6",
   "metadata": {},
   "source": [
    "# Random Forest (Rastgele Orman)"
   ]
  },
  {
   "cell_type": "markdown",
   "id": "9f87bf70-cc02-4ced-a918-94ae39741bf5",
   "metadata": {},
   "source": [
    "### Random Forest, birden fazla karar ağacının bir araya gelmesiyle oluşturulan bir topluluk (ensemble) algoritmasıdır.\n",
    "\n",
    "### Avantajlar\n",
    "-> Yüksek doğruluk\n",
    "\n",
    "-> Overfitting’e karşı dayanıklı\n",
    "\n",
    "-> Eksik verilerle başa çıkabilir\n",
    "\n",
    "### Dezavantajlar\n",
    "-> Yavaş çalışabilir\n",
    "\n",
    "-> Yorumlanması zordur"
   ]
  }
 ],
 "metadata": {
  "kernelspec": {
   "display_name": "Python 3 (ipykernel)",
   "language": "python",
   "name": "python3"
  },
  "language_info": {
   "codemirror_mode": {
    "name": "ipython",
    "version": 3
   },
   "file_extension": ".py",
   "mimetype": "text/x-python",
   "name": "python",
   "nbconvert_exporter": "python",
   "pygments_lexer": "ipython3",
   "version": "3.9.21"
  }
 },
 "nbformat": 4,
 "nbformat_minor": 5
}
