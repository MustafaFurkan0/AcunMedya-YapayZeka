{
 "cells": [
  {
   "cell_type": "markdown",
   "id": "1d590af7-97bf-4b25-abe3-f5251b1513cd",
   "metadata": {},
   "source": [
    "# 🚀 Özellik Ölçekleme (Feature Scaling)\n",
    "Makine öğrenmesinde özelliklerin farklı değer aralıklarında olması, bazı algoritmaların performansını olumsuz etkileyebilir. Bu nedenle özellik ölçekleme (feature scaling) uygulanır.\n",
    "## ❓ Neden Gerekli?\n",
    "- KNN, KMeans, SVM gibi algoritmalar **mesafe hesaplamalarına** dayanır.\n",
    "- Büyük ölçekli özellikler modelin kararlarını baskılayabilir.\n",
    "- Dengeli, hızlı ve doğru bir öğrenme için veriler ortak ölçeğe getirilmelidir.\n",
    "\n",
    "from sklearn.datasets import load_iris\n",
    "import pandas as pd\n",
    "\n",
    "# Örnek veri seti: Iris\n",
    "iris = load_iris()\n",
    "X = pd.DataFrame(iris.data, columns=iris.feature_names)\n",
    "\n",
    "X.describe()\n",
    "\n",
    "## ⚙️ StandardScaler (Z-Score Normalizasyonu)\n",
    "- Ortalama: 0\n",
    "- Standart Sapma: 1\n",
    "- Genellikle varsayılan seçimdir.\n",
    "\n",
    "from sklearn.preprocessing import StandardScaler\n",
    "\n",
    "scaler_std = StandardScaler()\n",
    "X_std = scaler_std.fit_transform(X)\n",
    "\n",
    "pd.DataFrame(X_std, columns=X.columns).describe()\n",
    "\n",
    "## 🔄 MinMaxScaler\n",
    "- Verileri [0, 1] aralığına çeker.\n",
    "- Derin öğrenmede yaygındır.\n",
    "from sklearn.preprocessing import MinMaxScaler\n",
    "\n",
    "scaler_minmax = MinMaxScaler()\n",
    "X_minmax = scaler_minmax.fit_transform(X)\n",
    "\n",
    "pd.DataFrame(X_minmax, columns=X.columns).describe()\n",
    "\n",
    "## 🧱 RobustScaler\n",
    "- Aykırı değerlere (outlier) karşı dayanıklıdır.\n",
    "- Özellikle finansal verilerde kullanılır.\n",
    "from sklearn.preprocessing import RobustScaler\n",
    "\n",
    "scaler_robust = RobustScaler()\n",
    "X_robust = scaler_robust.fit_transform(X)\n",
    "\n",
    "pd.DataFrame(X_robust, columns=X.columns).describe()\n",
    "\n",
    "## ✅ Karşılaştırmalı Özet\n",
    "| Ölçekleme Yöntemi | Outlier Duyarlılığı | Tipik Kullanım Alanı |\n",
    "|--------------------|----------------------|------------------------|\n",
    "| StandardScaler     | Yüksek               | Genel                 |\n",
    "| MinMaxScaler       | Yüksek               | Görselleştirme, DL    |\n",
    "| RobustScaler       | Düşük                | Finansal, Medikal     |\n",
    "| MaxAbsScaler       | Orta                 | Sparse Matrisler      |\n"
   ]
  },
  {
   "cell_type": "code",
   "execution_count": null,
   "id": "a6b31cbd-920a-480f-8e5e-eee3ca8fa472",
   "metadata": {},
   "outputs": [],
   "source": []
  }
 ],
 "metadata": {
  "kernelspec": {
   "display_name": "Python 3 (ipykernel)",
   "language": "python",
   "name": "python3"
  },
  "language_info": {
   "codemirror_mode": {
    "name": "ipython",
    "version": 3
   },
   "file_extension": ".py",
   "mimetype": "text/x-python",
   "name": "python",
   "nbconvert_exporter": "python",
   "pygments_lexer": "ipython3",
   "version": "3.9.21"
  }
 },
 "nbformat": 4,
 "nbformat_minor": 5
}
