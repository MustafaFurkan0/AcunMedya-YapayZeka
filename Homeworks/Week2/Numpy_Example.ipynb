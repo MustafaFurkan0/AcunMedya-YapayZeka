{
 "cells": [
  {
   "cell_type": "code",
   "execution_count": 1,
   "id": "bbfeba8a-dce0-40e7-9644-eb2242c5b23f",
   "metadata": {},
   "outputs": [],
   "source": [
    "import numpy as np"
   ]
  },
  {
   "cell_type": "markdown",
   "id": "793f2424-86b4-42ba-9059-36f20f810cdf",
   "metadata": {},
   "source": [
    "## Numpy Kütüphanesi"
   ]
  },
  {
   "cell_type": "markdown",
   "id": "c925f14c-5dd3-4599-84ed-dc705bf71748",
   "metadata": {},
   "source": [
    "## 1. np.array() => NumPy'de dizi oluşturmak için kullanılır."
   ]
  },
  {
   "cell_type": "code",
   "execution_count": 31,
   "id": "40847680-cf5e-4306-bc8c-83ed7c767b5c",
   "metadata": {},
   "outputs": [
    {
     "data": {
      "text/plain": [
       "array([1, 2, 3, 4, 5])"
      ]
     },
     "execution_count": 31,
     "metadata": {},
     "output_type": "execute_result"
    }
   ],
   "source": [
    "arr = np.array([1, 2, 3, 4, 5])\n",
    "arr"
   ]
  },
  {
   "cell_type": "markdown",
   "id": "327b9cc7-58e8-4f0a-84bd-91e21adf1a06",
   "metadata": {},
   "source": [
    "## 2. np.arange() => Belirli Aralıkta Dizi Oluşturma"
   ]
  },
  {
   "cell_type": "code",
   "execution_count": 32,
   "id": "5f131eb6-95da-49ee-a691-aa0fd47a00ac",
   "metadata": {},
   "outputs": [
    {
     "data": {
      "text/plain": [
       "array([0. , 1.5, 3. , 4.5, 6. , 7.5, 9. ])"
      ]
     },
     "execution_count": 32,
     "metadata": {},
     "output_type": "execute_result"
    }
   ],
   "source": [
    "arr = np.arange(0, 10, 1.5)  # 0'dan 10'a kadar 1.5'şer artan dizi\n",
    "arr"
   ]
  },
  {
   "cell_type": "markdown",
   "id": "7b3c2539-d644-4731-b258-b0dffa46aab1",
   "metadata": {},
   "source": [
    "# 3. np.linspace() => Eşit Aralıklı Değerler Üretme"
   ]
  },
  {
   "cell_type": "code",
   "execution_count": 33,
   "id": "31d7bac4-fa04-4959-a8d2-a2bbb27b249e",
   "metadata": {},
   "outputs": [
    {
     "data": {
      "text/plain": [
       "array([ 0.        ,  1.66666667,  3.33333333,  5.        ,  6.66666667,\n",
       "        8.33333333, 10.        ])"
      ]
     },
     "execution_count": 33,
     "metadata": {},
     "output_type": "execute_result"
    }
   ],
   "source": [
    "arr = np.linspace(0, 10, 7)  # 0 ile 10 arasında 7 eşit değer\n",
    "arr"
   ]
  },
  {
   "cell_type": "markdown",
   "id": "cc389c64-c184-495f-840e-0fe5a0e4864e",
   "metadata": {},
   "source": [
    "# 4. np.zeros() => Sıfırlardan oluşan dizi oluşturur"
   ]
  },
  {
   "cell_type": "code",
   "execution_count": 34,
   "id": "fb275b36-28c6-4267-bd6d-4a1741c3ea29",
   "metadata": {},
   "outputs": [
    {
     "data": {
      "text/plain": [
       "array([[0., 0., 0.],\n",
       "       [0., 0., 0.],\n",
       "       [0., 0., 0.]])"
      ]
     },
     "execution_count": 34,
     "metadata": {},
     "output_type": "execute_result"
    }
   ],
   "source": [
    "zeros = np.zeros((3, 3))\n",
    "zeros"
   ]
  },
  {
   "cell_type": "markdown",
   "id": "76c67e63-8737-4f3e-bc60-2d4224daadbb",
   "metadata": {},
   "source": [
    "# 5. np.ones() => Birlerden oluşan dizi oluşturur"
   ]
  },
  {
   "cell_type": "code",
   "execution_count": 35,
   "id": "d12b3e1f-8b99-4ddb-a136-41e9cb99bfd1",
   "metadata": {},
   "outputs": [
    {
     "data": {
      "text/plain": [
       "array([[1., 1., 1., 1., 1.],\n",
       "       [1., 1., 1., 1., 1.],\n",
       "       [1., 1., 1., 1., 1.],\n",
       "       [1., 1., 1., 1., 1.]])"
      ]
     },
     "execution_count": 35,
     "metadata": {},
     "output_type": "execute_result"
    }
   ],
   "source": [
    "ones = np.ones((4, 5))\n",
    "ones"
   ]
  },
  {
   "cell_type": "markdown",
   "id": "00e2f810-2c74-43a2-b45a-555699373d8f",
   "metadata": {},
   "source": [
    "# 6. np.random.rand() => Rastgele Sayılar Üretme"
   ]
  },
  {
   "cell_type": "code",
   "execution_count": 36,
   "id": "98b9a0a7-1308-467f-bed7-ac8a0b3d3124",
   "metadata": {},
   "outputs": [
    {
     "data": {
      "text/plain": [
       "array([[0.27652845, 0.82791765, 0.52653097],\n",
       "       [0.62001816, 0.37082632, 0.93975511],\n",
       "       [0.13722501, 0.77093124, 0.66042909]])"
      ]
     },
     "execution_count": 36,
     "metadata": {},
     "output_type": "execute_result"
    }
   ],
   "source": [
    "rand = np.random.rand(3, 3)\n",
    "rand"
   ]
  },
  {
   "cell_type": "markdown",
   "id": "63dbdedf-19e1-4b72-96f9-c79f3459fc8f",
   "metadata": {},
   "source": [
    "# 7. np.dot() => Matris Çarpımı"
   ]
  },
  {
   "cell_type": "code",
   "execution_count": 37,
   "id": "92f0246e-68bb-4b53-821a-f8bbf52569fa",
   "metadata": {},
   "outputs": [
    {
     "data": {
      "text/plain": [
       "array([[19, 22],\n",
       "       [43, 50]])"
      ]
     },
     "execution_count": 37,
     "metadata": {},
     "output_type": "execute_result"
    }
   ],
   "source": [
    "A = np.array([[1, 2], [3, 4]])\n",
    "B = np.array([[5, 6], [7, 8]])\n",
    "np.dot(A, B)  "
   ]
  },
  {
   "cell_type": "markdown",
   "id": "91c656de-b9e4-43e1-9d51-bb16ae4830dc",
   "metadata": {},
   "source": [
    "# 8. np.mean() => Dizinin ortalasını hesaplar"
   ]
  },
  {
   "cell_type": "code",
   "execution_count": 39,
   "id": "2d075c73-d70a-422f-a1d7-6a57a6760548",
   "metadata": {},
   "outputs": [
    {
     "data": {
      "text/plain": [
       "np.float64(5.0)"
      ]
     },
     "execution_count": 39,
     "metadata": {},
     "output_type": "execute_result"
    }
   ],
   "source": [
    "np.mean(arr)"
   ]
  },
  {
   "cell_type": "markdown",
   "id": "2c50993e-ff53-4a4f-8f4e-72228e389ff3",
   "metadata": {},
   "source": [
    "# 9. np.where() => Koşula Bağlı Eleman Seçme"
   ]
  },
  {
   "cell_type": "code",
   "execution_count": 41,
   "id": "a3c0b413-04df-42ee-b828-17472981f3b3",
   "metadata": {},
   "outputs": [
    {
     "data": {
      "text/plain": [
       "(array([2, 3, 4]),)"
      ]
     },
     "execution_count": 41,
     "metadata": {},
     "output_type": "execute_result"
    }
   ],
   "source": [
    "arr = np.array([5, 10, 15, 20, 25])\n",
    "np.where(arr > 10)  # 10’dan büyük olanların indekslerini bulur"
   ]
  },
  {
   "cell_type": "markdown",
   "id": "0fed532e-7c2b-4784-8c73-3d5f1d806a29",
   "metadata": {},
   "source": [
    "# 10. np.eye() => Köşegen elemanları 1 olan birim matris oluşturur."
   ]
  },
  {
   "cell_type": "code",
   "execution_count": 43,
   "id": "6cb912a7-cf13-4c10-823f-15be689149d9",
   "metadata": {},
   "outputs": [
    {
     "data": {
      "text/plain": [
       "array([[1., 0., 0., 0.],\n",
       "       [0., 1., 0., 0.],\n",
       "       [0., 0., 1., 0.],\n",
       "       [0., 0., 0., 1.]])"
      ]
     },
     "execution_count": 43,
     "metadata": {},
     "output_type": "execute_result"
    }
   ],
   "source": [
    "eye = np.eye(4)  # 4x4 birim matrisi\n",
    "eye"
   ]
  },
  {
   "cell_type": "code",
   "execution_count": null,
   "id": "3e0ad267-9311-457c-8913-474568afe5cd",
   "metadata": {},
   "outputs": [],
   "source": []
  }
 ],
 "metadata": {
  "kernelspec": {
   "display_name": "Python 3 (ipykernel)",
   "language": "python",
   "name": "python3"
  },
  "language_info": {
   "codemirror_mode": {
    "name": "ipython",
    "version": 3
   },
   "file_extension": ".py",
   "mimetype": "text/x-python",
   "name": "python",
   "nbconvert_exporter": "python",
   "pygments_lexer": "ipython3",
   "version": "3.9.21"
  }
 },
 "nbformat": 4,
 "nbformat_minor": 5
}
